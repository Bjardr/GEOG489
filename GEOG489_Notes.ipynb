{
 "cells": [
  {
   "cell_type": "markdown",
   "id": "f5bdfc8c",
   "metadata": {},
   "source": [
    "# Lesson One"
   ]
  },
  {
   "cell_type": "markdown",
   "id": "c7b72e53",
   "metadata": {},
   "source": [
    "### Concepts of parallel programming and multiprocessing "
   ]
  },
  {
   "cell_type": "markdown",
   "id": "381b7d9d",
   "metadata": {},
   "source": [
    "### Debugging and profiling code to detect bottlenecks"
   ]
  },
  {
   "cell_type": "markdown",
   "id": "3bc19f63",
   "metadata": {},
   "source": [
    "### Random notes\n",
    "\n",
    "- We can specify the number d of decimal digits that should be displayed by using the pattern {i:n.df} for the .format() method. \n",
    "\n",
    "- Python ternary operator --  x if c else y\n",
    "\n",
    "- Parameters: Special parameter that has a * symbol in front of its name. If you look at the code below, you will see that this parameter is treated like a list in the body of the function\n",
    "\n",
    "- arcpy.GetRasterProperties_management(inRaster1, \"MAXIMUM\")  # is a thing\n"
   ]
  },
  {
   "cell_type": "markdown",
   "id": "1a8a5207",
   "metadata": {},
   "source": [
    "### 64-bit processing and multiprocessing -- Run Time Performance\n",
    "- multiprocessing/multithreading -- split the workload across all the available processors on a PC.\n",
    "- imports introduced:\n",
    "\n",
    "    __import__ time -- time.time()\n",
    "    \n",
    "    __import__ multiprocessing\n",
    "    \n",
    "    from statistics __import__ mean\n",
    "    \n",
    "    \n",
    "- For multiprocessing, we want to use (below) to make sure the script statements are only executed in the main process, not all subprocesses, and the mp_handler() sets up our pool or processors and also assigns (maps) each task to a processor. \n",
    "    \n",
    "- __MapReduce__ - parallel processing approach, _map_ (apply) a function to every item in a list (such as feature classes); _reduce_, apply function to a list, and combine the results into a single result."
   ]
  },
  {
   "cell_type": "raw",
   "id": "2a8d59d4",
   "metadata": {},
   "source": [
    "    if __name__ == '__main__': \n",
    "        mp_handler()"
   ]
  }
 ],
 "metadata": {
  "kernelspec": {
   "display_name": "Python 3",
   "language": "python",
   "name": "python3"
  },
  "language_info": {
   "codemirror_mode": {
    "name": "ipython",
    "version": 3
   },
   "file_extension": ".py",
   "mimetype": "text/x-python",
   "name": "python",
   "nbconvert_exporter": "python",
   "pygments_lexer": "ipython3",
   "version": "3.6.13"
  }
 },
 "nbformat": 4,
 "nbformat_minor": 5
}
